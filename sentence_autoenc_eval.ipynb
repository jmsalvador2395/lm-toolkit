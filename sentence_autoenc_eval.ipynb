{
 "cells": [
  {
   "cell_type": "markdown",
   "id": "c7f8c365-eef5-40e4-8685-acf0e1e70e63",
   "metadata": {},
   "source": [
    "# Setup Environment"
   ]
  },
  {
   "cell_type": "code",
   "execution_count": 1,
   "id": "4a77b803-b67e-4efa-a0f3-6ae99d694261",
   "metadata": {},
   "outputs": [],
   "source": [
    "# External Imports\n",
    "import time, os, json\n",
    "import numpy as np\n",
    "import matplotlib.pyplot as plt\n",
    "import datasets\n",
    "import torch\n",
    "import random\n",
    "from transformers import AutoTokenizer\n",
    "from sentence_transformers import SentenceTransformer\n",
    "from datasets import Dataset\n",
    "from pprint import pprint\n",
    "\n",
    "\n",
    "# Internal Imports\n",
    "import mltoolkit as mltk\n",
    "from mltoolkit import (\n",
    "    cfg_reader,\n",
    "    models,\n",
    ")\n",
    "\n",
    "%load_ext autoreload\n",
    "%autoreload 2\n"
   ]
  },
  {
   "cell_type": "markdown",
   "id": "6cf73a84-8758-46a0-973d-2eb10fb6421a",
   "metadata": {},
   "source": [
    "# Load Config, Tokenizer and Model Checkpoint"
   ]
  },
  {
   "cell_type": "code",
   "execution_count": 2,
   "id": "7b0cd5c6-4815-4f41-b412-735a00c404b6",
   "metadata": {},
   "outputs": [
    {
     "name": "stdout",
     "output_type": "stream",
     "text": [
      "embeddings device: cpu\n",
      "decoder device: cuda:3\n",
      "\n",
      "TransformerAutoencoder(\n",
      "  (encoder): SentenceTransformer(\n",
      "    (0): Transformer({'max_seq_length': 512, 'do_lower_case': False}) with Transformer model: MPNetModel \n",
      "    (1): Pooling({'word_embedding_dimension': 768, 'pooling_mode_cls_token': False, 'pooling_mode_mean_tokens': True, 'pooling_mode_max_tokens': False, 'pooling_mode_mean_sqrt_len_tokens': False})\n",
      "    (2): Normalize()\n",
      "  )\n",
      "  (embeddings): Embedding(30527, 768, padding_idx=1)\n",
      "  (pos): PositionalEncoding(\n",
      "    (dropout): Dropout(p=0.1, inplace=False)\n",
      "  )\n",
      "  (up_conv): Sequential(\n",
      "    (0): Sequential(\n",
      "      (0): Conv1d(1, 16, kernel_size=(33,), stride=(1,), padding=(16,))\n",
      "      (1): ReLU()\n",
      "    )\n",
      "    (1): Linear(in_features=768, out_features=768, bias=True)\n",
      "  )\n",
      "  (decoder): ModuleList(\n",
      "    (0): TransformerDecoder(\n",
      "      (layers): ModuleList(\n",
      "        (0-2): 3 x TransformerDecoderLayer(\n",
      "          (self_attn): MultiheadAttention(\n",
      "            (out_proj): NonDynamicallyQuantizableLinear(in_features=768, out_features=768, bias=True)\n",
      "          )\n",
      "          (multihead_attn): MultiheadAttention(\n",
      "            (out_proj): NonDynamicallyQuantizableLinear(in_features=768, out_features=768, bias=True)\n",
      "          )\n",
      "          (linear1): Linear(in_features=768, out_features=768, bias=True)\n",
      "          (dropout): Dropout(p=0.05, inplace=False)\n",
      "          (linear2): Linear(in_features=768, out_features=768, bias=True)\n",
      "          (norm1): LayerNorm((768,), eps=1e-05, elementwise_affine=True)\n",
      "          (norm2): LayerNorm((768,), eps=1e-05, elementwise_affine=True)\n",
      "          (norm3): LayerNorm((768,), eps=1e-05, elementwise_affine=True)\n",
      "          (dropout1): Dropout(p=0.05, inplace=False)\n",
      "          (dropout2): Dropout(p=0.05, inplace=False)\n",
      "          (dropout3): Dropout(p=0.05, inplace=False)\n",
      "        )\n",
      "      )\n",
      "    )\n",
      "  )\n",
      "  (mlp): Sequential(\n",
      "    (0): Sequential(\n",
      "      (0): Linear(in_features=768, out_features=768, bias=True)\n",
      "      (1): ReLU()\n",
      "      (2): Dropout(p=0.05, inplace=False)\n",
      "    )\n",
      "    (1): Sequential(\n",
      "      (0): Linear(in_features=768, out_features=768, bias=True)\n",
      "      (1): ReLU()\n",
      "      (2): Dropout(p=0.05, inplace=False)\n",
      "    )\n",
      "    (2): Sequential(\n",
      "      (0): Linear(in_features=768, out_features=768, bias=True)\n",
      "      (1): ReLU()\n",
      "      (2): Dropout(p=0.05, inplace=False)\n",
      "    )\n",
      "    (3): Sequential(\n",
      "      (0): Linear(in_features=768, out_features=768, bias=True)\n",
      "      (1): ReLU()\n",
      "      (2): Dropout(p=0.05, inplace=False)\n",
      "    )\n",
      "    (4): Linear(in_features=768, out_features=30527, bias=True)\n",
      "  )\n",
      ")\n"
     ]
    }
   ],
   "source": [
    "cfg, keywords = cfg_reader.load('/data/john/projects/mltoolkit/cfg/nlp/sentence_decoding/dev_config.yaml')\n",
    "\n",
    "tokenizer = AutoTokenizer.from_pretrained(cfg.data['tokenizer_name'])\n",
    "\n",
    "cfg.model['vocab_size'] = len(tokenizer)\n",
    "cfg.model['pad_token_id'] = tokenizer.pad_token_id\n",
    "cfg.model['devices'] = ['cuda:3']\n",
    "\n",
    "model = models.TransformerAutoencoder(cfg)\n",
    "model.load_state_dict(torch.load('/data/john/projects/mltoolkit/checkpoints/20230926-220851-sentence-decoding/best_model.pt'))\n",
    "model.eval()\n",
    "\n",
    "print(f'embeddings device: {model.embeddings.weight.device}')\n",
    "#print(f'decoder device: {model.decoder[0].weight.device}')\n",
    "print(f'decoder device: {next(iter(model.decoder[0].state_dict().values())).device}')\n",
    "print()\n",
    "print(model)"
   ]
  },
  {
   "cell_type": "markdown",
   "id": "118711b1-188f-458a-99e7-47c7559c3b96",
   "metadata": {},
   "source": [
    "# Load Text Data"
   ]
  },
  {
   "cell_type": "code",
   "execution_count": 3,
   "id": "40b8e3db-bca9-40bb-9adf-32442e68d0f2",
   "metadata": {
    "scrolled": true
   },
   "outputs": [
    {
     "name": "stderr",
     "output_type": "stream",
     "text": [
      "Found cached dataset ptb_text_only (/home/john/.cache/huggingface/datasets/ptb_text_only/penn_treebank/1.1.0/8d1b97746fb9765d140e569ec5ddd35e20af4d37761f5e1bf357ea0b081f2c1f)\n"
     ]
    },
    {
     "data": {
      "application/vnd.jupyter.widget-view+json": {
       "model_id": "0eab1592a4634bc48130089eeea54575",
       "version_major": 2,
       "version_minor": 0
      },
      "text/plain": [
       "  0%|          | 0/3 [00:00<?, ?it/s]"
      ]
     },
     "metadata": {},
     "output_type": "display_data"
    },
    {
     "name": "stdout",
     "output_type": "stream",
     "text": [
      "Dataset({\n",
      "    features: ['sentence'],\n",
      "    num_rows: 3761\n",
      "})\n"
     ]
    }
   ],
   "source": [
    "#ds = Dataset.from_csv('/data/john/projects/mltoolkit/data/synthetic_overlap/synthetic_overlap_data.csv')\n",
    "ds = datasets.load_dataset('ptb_text_only')['test']\n",
    "pprint(ds)"
   ]
  },
  {
   "cell_type": "markdown",
   "id": "c61e58d3-e5fb-453f-870a-b0f3b41af11c",
   "metadata": {},
   "source": [
    "# Encode Some Text"
   ]
  },
  {
   "cell_type": "code",
   "execution_count": 4,
   "id": "d4d7d968-7202-42e2-85bd-daf95ecc3fd8",
   "metadata": {
    "scrolled": true
   },
   "outputs": [
    {
     "name": "stdout",
     "output_type": "stream",
     "text": [
      "tensor([[ 0.0069,  0.0688, -0.0115,  ...,  0.0389, -0.0072, -0.0203],\n",
      "        [-0.0231,  0.0562,  0.0215,  ...,  0.0155,  0.0522, -0.0109],\n",
      "        [-0.0185,  0.0336, -0.0222,  ...,  0.0140, -0.0336, -0.0086],\n",
      "        ...,\n",
      "        [ 0.0206,  0.0225,  0.0060,  ..., -0.0089,  0.0008, -0.0031],\n",
      "        [ 0.0301,  0.0010,  0.0153,  ...,  0.0086, -0.0213, -0.0104],\n",
      "        [ 0.0197, -0.0128, -0.0121,  ..., -0.0257, -0.0330, -0.0528]],\n",
      "       device='cuda:3')\n"
     ]
    }
   ],
   "source": [
    "sample_size = 10\n",
    "sample_indices = np.random.choice(\n",
    "    np.arange(len(ds)), \n",
    "    (sample_size,)\n",
    ")\n",
    "\n",
    "sentences = ds[sample_indices]['sentence']\n",
    "enc = model.encode(sentences)\n",
    "\n",
    "print(enc)"
   ]
  },
  {
   "cell_type": "markdown",
   "id": "e4a2b62d-b099-4559-a1ce-34295392aa80",
   "metadata": {},
   "source": [
    "# Get Raw Decodings"
   ]
  },
  {
   "cell_type": "code",
   "execution_count": 5,
   "id": "25affcc3-eaf3-4f77-aedf-45972b3e94c8",
   "metadata": {
    "scrolled": true
   },
   "outputs": [
    {
     "name": "stdout",
     "output_type": "stream",
     "text": [
      "['<s> in the - - - - - - - - - - - - - - - - - - - - - -...........................................................................................................................................................................................................................................................................................................................................................................................................................................................................................,,,,,,,,,,,,', '<s> in north </s> </s> </s> </s> </s> </s> </s> </s> </s> </s> </s> </s> </s> </s> </s> </s> </s> </s> </s> </s> </s> </s> </s> </s> </s> </s> </s> </s> </s> </s> </s> </s> </s> </s> </s> </s> </s> </s> </s> </s> </s> </s> </s> </s> </s> </s> </s> </s> </s> </s> </s> </s> </s> </s> </s> </s> </s> </s> </s> </s> </s> </s> </s> </s> </s> </s> </s> </s> </s> </s> </s> </s> </s> </s> </s> </s> </s> </s> </s> </s> </s> </s> </s> </s> </s> </s> </s> </s> </s> </s> </s> </s> </s> </s> </s> </s> </s> </s> </s> </s> </s> </s> </s> </s> </s> </s> </s> </s> </s> </s> </s> </s> </s> </s> </s> </s> </s> </s> </s> </s> </s> </s> </s> </s> </s> </s> </s> </s> </s> </s> </s> </s> </s> </s> </s> </s> </s> </s> </s> </s> </s> </s> </s> </s> </s> </s> </s> </s> </s> </s> </s> </s> </s> </s> </s> </s> </s> </s> </s> </s> </s> </s> </s> </s> </s> </s> </s> </s> </s> </s> </s> </s> </s> </s> </s> </s> </s> </s> </s> </s> </s> </s> </s> </s> </s> </s> </s> </s> </s> </s> </s> </s> </s> </s> </s> </s> </s> </s> </s> </s> </s> </s> </s> </s> </s> </s> </s> </s> </s> </s> </s> </s> </s> </s> </s> </s> </s> </s> </s> </s> </s> </s> </s> </s> </s> </s> </s> </s> </s> </s> </s> </s> </s> </s> </s> </s> </s> </s> </s> </s> </s> </s> </s> </s> </s> </s> </s> </s> </s> </s> </s> </s> </s> </s> </s> </s> </s> </s> </s> </s> </s> </s> </s> </s> </s> </s> </s> </s> </s> </s> </s> </s> </s> </s> </s> </s> </s> </s> </s> </s> </s> </s> </s> </s> </s> </s> </s> </s> </s> </s> </s> </s> </s> </s> </s> </s> </s> </s> </s> </s> </s> </s> </s> </s> </s> </s> </s> </s> </s> </s> </s> </s> </s> </s> </s> </s> </s> </s> </s> </s> </s> </s> </s> </s> </s> </s> </s> </s> </s> </s> </s> </s> </s> </s> </s> </s> </s> </s> </s> </s> </s> </s> </s> </s> </s> </s> </s> </s> </s> </s> </s> </s> </s> </s> </s> </s> </s> </s> </s> </s> </s> </s> </s> </s> </s> </s> </s> </s> </s> </s> </s> </s> </s> </s> </s> </s> </s> </s> </s> </s> </s> </s> </s> </s> </s> </s> </s> </s> </s> </s> </s> </s> </s> </s> </s> </s> </s> </s> </s> </s> </s> </s> </s> </s> </s> </s> </s> </s> </s> </s> </s> </s> </s> </s> </s> </s> </s> </s> </s> </s> </s> </s> </s> </s> </s> </s> </s> </s> </s> </s> </s> </s> </s> </s> </s> </s> </s> </s> </s> </s> </s> </s> </s> </s> </s> </s> </s> </s> </s> </s> </s> </s> </s> </s> </s> </s> </s> </s> </s> </s> </s> </s> </s> </s> </s> </s> </s> </s> </s> </s> </s> </s> </s> </s> </s> </s> </s> </s> </s> </s> </s> </s> </s> </s> </s> </s> </s> </s> </s> </s> </s> </s> </s> </s> </s> </s> </s> </s> </s> </s> </s> </s> </s> </s> </s> </s> </s> </s> </s>', '<s> </s>. </s>. </s>. </s>. </s>. </s>. </s>. </s>. </s>. </s>. </s>. </s>. </s>. </s>. </s>. </s>. </s>. </s>. </s>. </s>. </s>. </s>. </s>. </s>. </s>. </s>. </s>. </s>. </s>. </s>. </s>. </s>. </s>. </s>. </s>. </s>. </s>. </s>. </s>. </s>. </s>. </s>. </s>. </s>. </s>. </s>. </s>. </s>. </s>. </s>. </s>. </s>. </s>. </s>. </s>. </s>. </s>. </s>. </s>. </s>. </s>. </s>. </s>. </s>. </s>. </s>. </s>. </s>. </s>. </s>. </s>. </s>. </s>. </s>. </s>. </s>. </s>. </s>. </s>. </s>. </s>. </s>. </s>. </s>. </s>. </s>. </s>. </s>. </s>. </s>. </s>. </s>. </s>. </s>. </s>. </s>. </s>. </s>. </s>. </s>. </s>. </s>. </s>. </s>. </s>. </s>. </s>. </s>. </s>. </s>. </s>. </s>. </s>. </s>. </s>. </s>. </s>. </s>. </s>. </s>. </s>. </s>. </s>. </s>. </s>. </s>. </s>. </s>. </s>. </s>. </s>. </s>. </s>. </s>. </s>. </s>. </s>. </s>. </s>. </s>. </s>. </s>. </s>. </s>. </s>. </s>. </s>. </s>. </s>. </s>. </s>. </s>. </s>. </s>. </s>. </s>. </s>. </s>. </s>. </s>. </s>. </s>. </s>. </s>. </s>. </s>. </s>. </s>. </s>. </s>. </s>. </s>. </s>. </s>. </s>. </s>. </s>. </s>. </s>. </s>. </s>. </s>. </s>. </s>. </s>. </s>. </s>. </s>. </s>. </s>. </s>. </s>. </s>. </s>. </s>. </s>. </s>. </s>. </s>. </s>. </s>. </s>. </s>. </s>. </s>. </s>. </s>. </s>. </s>. </s>. </s>. </s>. </s>. </s>. </s>. </s>. </s>. </s>. </s>. </s>. </s>. </s>. </s>. </s>. </s>. </s>. </s>. </s>. </s>. </s>. </s>. </s>. </s>. </s>. </s>. </s>. </s>. </s>. </s>. </s>. </s>. </s>. </s>. </s>. </s>. </s>. </s>. </s>. </s>. </s>. </s>. </s>. </s>. </s>. </s>. </s>', '<s> employees............................................................................................................................................................................................................................................................,,,,,,,,,,,,,,,,,,,,,,,,,,,,,,,,,,,,,,,,,,,,,,,,,,,,,,,,,,,,,,,,,,,,,,,,,,,,,,,,,,,,,,,,,,,,,,,,,,,,,,,,,,,,,,,,,,,,,,,,,,,,,,,,,,,,,,,,,,,,,,,,,,,,,,,,,,,,,,,,,,,,,,,,,,,,,,,,,,,,,,,,,,,,,,,,,,,,,,,,,,,,,,,,,,,,,,,,,,,,,,,,,,,,,,,,,,,,,,,,,,,,,,,,,,,,,,,,,,', '<s> companies </s> companies </s> companies </s> companies </s> companies </s> companies </s> companies </s> companies </s> companies </s> companies </s> companies </s> companies </s> companies </s> companies </s> companies </s> companies </s> companies </s> companies </s> companies </s> companies </s> companies </s> companies </s> companies </s> companies </s> companies </s> companies </s> companies </s> companies </s> companies </s> companies </s> companies </s> companies </s> companies </s> companies </s> companies </s> companies </s> companies </s> companies </s> companies </s> companies </s> companies </s> companies </s> companies </s> companies </s> companies </s> companies </s> companies </s> companies </s> companies </s> companies </s> companies </s> companies </s> companies </s> companies </s> companies </s> companies </s> companies </s> companies </s> companies </s> companies </s> companies </s> companies </s> companies </s> companies </s> companies </s> companies </s> companies </s> companies </s> companies </s> companies </s> companies </s> companies </s> companies </s> companies </s> companies </s> companies </s> companies </s> companies </s> companies </s> companies </s> companies </s> companies </s> companies </s> companies </s> companies </s> companies </s> companies </s> companies </s> companies </s> companies </s> companies </s> companies </s> companies </s> companies </s> companies </s> companies </s> companies </s> companies </s> companies </s> companies </s> companies </s> companies </s> companies </s> companies </s> companies </s> companies </s> companies </s> companies </s> companies </s> companies </s> companies </s> companies </s> companies </s> companies </s> companies </s> companies </s> companies </s> companies </s> companies </s> companies </s> companies </s> companies </s> companies </s> companies </s> companies </s> companies </s> companies </s> companies </s> companies </s> companies </s> companies </s> companies </s> companies </s> companies </s> companies </s> companies </s> companies </s> companies </s> companies </s> companies </s> companies </s> companies </s> companies </s> companies </s> companies </s> companies </s> companies </s> companies </s> companies </s> companies </s> companies </s> companies </s> companies </s> companies </s> companies </s> companies </s> companies </s> companies </s> companies </s> companies </s> companies </s> companies </s> companies </s> companies </s> companies </s> companies </s> companies </s> companies </s> companies </s> companies </s> companies </s> companies </s> companies </s> companies </s> companies </s> companies </s> companies </s> companies </s> companies </s> companies </s> companies </s> companies </s> companies </s> companies </s> companies </s> companies </s> companies </s> companies </s> companies </s> companies </s> companies </s> companies </s> companies </s> companies </s> companies </s> companies </s> companies </s> companies </s> companies </s> companies </s> companies </s> companies </s> companies </s> companies </s> companies </s> companies </s> companies </s> companies </s> companies </s> companies </s> companies </s> companies </s> companies </s> companies </s> companies </s> companies </s> companies </s> companies </s> companies </s> companies </s> companies </s> companies </s> companies </s> companies </s> companies </s> companies </s> companies </s> companies </s> companies </s> companies </s> companies </s> companies </s> companies </s> companies </s> companies </s> companies </s> companies </s> companies </s> companies </s> companies </s> companies </s> companies </s> companies </s> companies </s> companies </s> companies </s> companies </s> companies </s> companies </s> companies </s> companies </s> companies </s> companies </s> companies </s> companies </s> companies', '<s> in the british </s> </s> </s> </s> </s> </s> </s> </s> </s> </s> </s> </s> </s> </s> </s> </s> </s> </s> </s> </s> </s> </s> </s> </s> </s> </s> </s> </s> </s> </s> </s> </s> </s> </s> </s> </s> </s> </s> </s> </s> </s> </s> </s> </s> </s> </s> </s> </s> </s> </s> </s> </s> </s> </s> </s> </s> </s> </s> </s> </s> </s> </s> </s> </s> </s> </s> </s> </s> </s> </s> </s> </s> </s> </s> </s> </s> </s> </s> </s> </s> </s> </s> </s> </s> </s> </s> </s> </s> </s> </s> </s> </s> </s> </s> </s> </s> </s> </s> </s> </s> </s> </s> </s> </s> </s> </s> </s> </s> </s> </s> </s> </s> </s> </s> </s> </s> </s> </s> </s> </s> </s> </s> </s> </s> </s> </s> </s> </s> </s> </s> </s> </s> </s> </s> </s> </s> </s> </s> </s> </s> </s> </s> </s> </s> </s> </s> </s> </s> </s> </s> </s> </s> </s> </s> </s> </s> </s> </s> </s> </s> </s> </s> </s> </s> </s> </s> </s> </s> </s> </s> </s> </s> </s> </s> </s> </s> </s> </s> </s> </s> </s> </s> </s> </s> </s> </s> </s> </s> </s> </s> </s> </s> </s> </s> </s> </s> </s> </s> </s> </s> </s> </s> </s> </s> </s> </s> </s> </s> </s> </s> </s> </s> </s> </s> </s> </s> </s> </s> </s> </s> </s> </s> </s> </s> </s> </s> </s> </s> </s> </s> </s> </s> </s> </s> </s> </s> </s> </s> </s> </s> </s> </s> </s> </s> </s> </s> </s> </s> </s> </s> </s> </s> </s> </s> </s> </s> </s> </s> </s> </s> </s> </s> </s> </s> </s> </s> </s> </s> </s> </s> </s> </s> </s> </s> </s> </s> </s> </s> </s> </s> </s> </s> </s> </s> </s> </s> </s> </s> </s> </s> </s> </s> </s> </s> </s> </s> </s> </s> </s> </s> </s> </s> </s> </s> </s> </s> </s> </s> </s> </s> </s> </s> </s> </s> </s> </s> </s> </s> </s> </s> </s> </s> </s> </s> </s> </s> </s> </s> </s> </s> </s> </s> </s> </s> </s> </s> </s> </s> </s> </s> </s> </s> </s> </s> </s> </s> </s> </s> </s> </s> </s> </s> </s> </s> </s> </s> </s> </s> </s> </s> </s> </s> </s> </s> </s> </s> </s> </s> </s> </s> </s> </s> </s> </s> </s> </s> </s> </s> </s> </s> </s> </s> </s> </s> </s> </s> </s> </s> </s> </s> </s> </s> </s> </s> </s> </s> </s> </s> </s> </s> </s> </s> </s> </s> </s> </s> </s> </s> </s> </s> </s> </s> </s> </s> </s> </s> </s> </s> </s> </s> </s> </s> </s> </s> </s> </s> </s> </s> </s> </s> </s> </s> </s> </s> </s> </s> </s> </s> </s> </s> </s> </s> </s> </s> </s> </s> </s> </s> </s> </s> </s> </s> </s> </s> </s> </s> </s> </s> </s> </s> </s> </s> </s> </s> </s> </s> </s> </s> </s> </s> </s> </s> </s> </s> </s> </s> </s> </s> </s> </s> </s> </s> </s> </s> </s> </s> </s> </s> </s> </s> </s> </s> </s> </s> </s> </s> </s> </s> </s> </s> </s> </s> </s> </s> </s> </s> </s> </s>', '<s> ” \" \" \" \" \" \" \" \" \" \" \" \" \" \" \" \" \" \" \" \" \" \" \" \" \" \" \" \" \" \" \" \" \" \" \" \" \" \" \" \" \" \" \" \" \" \" \" \" \" \" \" \" \" \" \" \" \" \" \" \" \" \" \" \" \" \" \" \" \" \" \" \" \" \" \" \" \" \" \" \" \" \" \" \" \" \" \" \" \" \" \" \" \" \" \" \" \" \" \" \" \" \" \" \" \" \" \" \" \" \" \" \" \" \" \" \" \" \" \" \" \" \" \" \" \" \" \" \" \" \" \" \" \" \" \" \" \" \" \" \" \" \" \" \" \" \" \" \" \" \" \" \" \" \" \" \" \" \" \" \" \" \" \" \" \" \" \" \" \" \" \" \" \" \" \" \" \" \" \" \" \" \" \" \" \" \" \" \" \" \" \" \" \" \" \" \" \" \" \" \" \" \" \" \" \" \" \" \" \" \" \" \" \" \" \" \" \" \" \" \" \" \" \" \" \" \" \" \" \" \" \" \" \" \" \" \" \" \" \" \" \" \" \" \" \" \" \" \" \" \" \" \" \" \" \" \" \" \" \" \" \" \" \" \" \" \" \" \" \" \" \" \" \" \" \" \" \" \" \" \" \" \" \" \" \" \" \" \" \" \" \" \" \" \" \" \" \" \" \" \" \" \" \" \" \" \" \" \" \" \" \" \" \" \" \" \" \" \" \" \" \" \" \" \" \" \" \" \" \" \" \" \" \" \" \" \" \" \" \" \" \" \" \" \" \" \" \" \" \" \" \" \" \" \" \" \" \" \" \" \" \" \" \" \" \" \" \" \" \" \" \" \" \" \" \" \" \" \" \" \" \" \" \" \" \" \" \" \" \" \" \" \" \" \" \" \" \" \" \" \" \" \" \" \" \" \" \" \" \" \" \" \" \" \" \" \" \" \" \" \" \" \" \" \" \" \" \" \" \" \" \" \" \" \" \" \" \" \" \" \" \" \" \" \" \" \" \" \" \" \" \" \" \" \" \" \" \" \" \" \" \" \" \" \" \" \" \" \" \" \" \" \" \" \" \" \" \" \" \" \" \" \" \" \" \" \" \" \" \" \" \" \" \" \" \" \" \" \" \" \" \" \" \" \" \" \" \" \" \" \"', '<s> in the lyman......................................................................................................................................................................................................,,,,,,,,,,,,,,,,,,,,,,,,,,,,,,,,,,,,,,,,,,,,,,,,,,,,,,,,,,,,,,,,,,,,,,,,,,,,,,,,,,,,,,,,,,,,,,,,,,,,,,,,,,,,,,,,,,,,,,,,, the, the the the the the the the the the the the the the the the the the the the the the the the the the the the the the the the the the the the the the the the the the the the the the the the the the the the the the the the the the the the the the the the the the the the the the the the the the the the the the the the the the the the the the the the the the the the the the the the the the the the the the the the the the the the the the the the the the the the the the the the the the the the the the the the the the the the the the the the the the the the the the the the the the the the the the the the the the the the the the the the the the the the the the the the the the the the the the the the the the the the the the the the the the the the', '<s> in the, the, would be sub the national geographic association...................................................................................................................................................................,,,,,,,,,,,,,,,,,,,,,,,,,,,,,,,,,,,,,,,,,,,,,,,,,,,,,,,,,,,,,,,,,,,,,,,,,,,,,,,,,,,,,,,,,,,,,,,,,,,,,,,,,,,,,,,,,,,,,,,,,,,,,,,,,,,,,,,,,,,,,,,,,,,,,,,,,,,,,,,,,,,,,,,,,,,,,,,,,,,,,,,,,,,,,,,,,,,,,,,,,,,,,,,,,,,,,,,,,,,,,,,,,,,,,,,,,,,,,,,,,,,,,,,,,,,,,,,,,,,,,,,,,,,,,,,,,,,,,,,,,,,,,,,,,,,,,,,,,,,,,,,,,,,,,,,,,,,,,,,,,,,,, the, the the the the the the the the the', '<s> in the financial corporation. </s>. </s>. </s>. </s>. </s>. </s>. </s>. </s>. </s>. </s>. </s>. </s>. </s>. </s>. </s>. </s>. </s>. </s>. </s>. </s>. </s>. </s>. </s>. </s>. </s>. </s>. </s>. </s>. </s>. </s>. </s>. </s>. </s>. </s>. </s>. </s>. </s>. </s>. </s>. </s>. </s>. </s>. </s>. </s>. </s>. </s>. </s>. </s>. </s>. </s>. </s>. </s>. </s>. </s>. </s>. </s>. </s>. </s>. </s>. </s>. </s>. </s>. </s>. </s>. </s>. </s>. </s>. </s>. </s>. </s>. </s>. </s>. </s>. </s>. </s>. </s>. </s>. </s>. </s>. </s>. </s>. </s>. </s>. </s>. </s>. </s>. </s>. </s>. </s>. </s>. </s>. </s>. </s>. </s>. </s>. </s>. </s>. </s>. </s>. </s>. </s>. </s>. </s>. </s>. </s>. </s>. </s>. </s>. </s>. </s>. </s>. </s>. </s>. </s>. </s>. </s>. </s>. </s>. </s>. </s>. </s>. </s>. </s>. </s>. </s>. </s>. </s>. </s>. </s>. </s>. </s>. </s>. </s>. </s>. </s>. </s>. </s>. </s>. </s>. </s>. </s>. </s>. </s>. </s>. </s>. </s>. </s>. </s>. </s>. </s>. </s>. </s>. </s>. </s>. </s>. </s>. </s>. </s>. </s>. </s>. </s>. </s>. </s>. </s>. </s>. </s>. </s>. </s>. </s>. </s>. </s>. </s>. </s>. </s>. </s>. </s>. </s>. </s>. </s>. </s>. </s>. </s>. </s>. </s>. </s>. </s>. </s>. </s>. </s>. </s>. </s>. </s>. </s>. </s>. </s>. </s>. </s>. </s>. </s>. </s>. </s>. </s>. </s>. </s>. </s>. </s>. </s>. </s>. </s>. </s>. </s>. </s>. </s>. </s>. </s>. </s>. </s>. </s>. </s>. </s>. </s>. </s>. </s>. </s>. </s>. </s>. </s>. </s>. </s>. </s>. </s>. </s>. </s>. </s>. </s>. </s>. </s>. </s>. </s>. </s>. </s>. </s>. </s>. </s>. </s>. </s>. </s>. </s>. </s>. </s>. </s>. </s>. </s>.']\n"
     ]
    }
   ],
   "source": [
    "dec = model.decode(enc)\n",
    "\n",
    "print(dec)\n",
    "\n"
   ]
  },
  {
   "cell_type": "markdown",
   "id": "85398545-9a02-4d11-97f0-283fba90bb9d",
   "metadata": {},
   "source": [
    "# Clean Up Decodings and Compare With Ground Truth"
   ]
  },
  {
   "cell_type": "code",
   "execution_count": 6,
   "id": "c829b3ac-627d-4c31-9b0d-11042244d553",
   "metadata": {
    "scrolled": true
   },
   "outputs": [
    {
     "name": "stdout",
     "output_type": "stream",
     "text": [
      "\n",
      "x:\tin response to your overly optimistic <unk> piece on how long unemployment lasts people patterns sept. N i am in the communications field above entry level\n",
      "x_hat:\tin the - - - - - - - - - - - - - - - - - - - - - -...........................................................................................................................................................................................................................................................................................................................................................................................................................................................................................,,,,,,,,,,,\n",
      "\n",
      "x:\tbetween N and N north <unk> was the only state in the midwest to lose population a loss of N people\n",
      "x_hat:\tin north \n",
      "\n",
      "x:\tbut in the process the fed risks <unk> inflation\n",
      "x_hat:\t\n",
      "\n",
      "x:\temployees have the right to trade stock among themselves and the company will establish an internal clearing house for these transactions\n",
      "x_hat:\temployees............................................................................................................................................................................................................................................................,,,,,,,,,,,,,,,,,,,,,,,,,,,,,,,,,,,,,,,,,,,,,,,,,,,,,,,,,,,,,,,,,,,,,,,,,,,,,,,,,,,,,,,,,,,,,,,,,,,,,,,,,,,,,,,,,,,,,,,,,,,,,,,,,,,,,,,,,,,,,,,,,,,,,,,,,,,,,,,,,,,,,,,,,,,,,,,,,,,,,,,,,,,,,,,,,,,,,,,,,,,,,,,,,,,,,,,,,,,,,,,,,,,,,,,,,,,,,,,,,,,,,,,,,,,,,,,,,\n",
      "\n",
      "x:\taim telephones inc. a <unk> n.j. telecommunications equipment supply company started trading with the symbol aim\n",
      "x_hat:\tcompanies \n",
      "\n",
      "x:\tmost threatened by closer british <unk> ties would be their respective national rivals including <unk> s.a. in france and britain 's general electric co. plc\n",
      "x_hat:\tin the british \n",
      "\n",
      "x:\t<unk> albert a <unk> dallas law student says she 's generally <unk> about the stock market and the takeover activity that seems to fuel it\n",
      "x_hat:\t” \" \" \" \" \" \" \" \" \" \" \" \" \" \" \" \" \" \" \" \" \" \" \" \" \" \" \" \" \" \" \" \" \" \" \" \" \" \" \" \" \" \" \" \" \" \" \" \" \" \" \" \" \" \" \" \" \" \" \" \" \" \" \" \" \" \" \" \" \" \" \" \" \" \" \" \" \" \" \" \" \" \" \" \" \" \" \" \" \" \" \" \" \" \" \" \" \" \" \" \" \" \" \" \" \" \" \" \" \" \" \" \" \" \" \" \" \" \" \" \" \" \" \" \" \" \" \" \" \" \" \" \" \" \" \" \" \" \" \" \" \" \" \" \" \" \" \" \" \" \" \" \" \" \" \" \" \" \" \" \" \" \" \" \" \" \" \" \" \" \" \" \" \" \" \" \" \" \" \" \" \" \" \" \" \" \" \" \" \" \" \" \" \" \" \" \" \" \" \" \" \" \" \" \" \" \" \" \" \" \" \" \" \" \" \" \" \" \" \" \" \" \" \" \" \" \" \" \" \" \" \" \" \" \" \" \" \" \" \" \" \" \" \" \" \" \" \" \" \" \" \" \" \" \" \" \" \" \" \" \" \" \" \" \" \" \" \" \" \" \" \" \" \" \" \" \" \" \" \" \" \" \" \" \" \" \" \" \" \" \" \" \" \" \" \" \" \" \" \" \" \" \" \" \" \" \" \" \" \" \" \" \" \" \" \" \" \" \" \" \" \" \" \" \" \" \" \" \" \" \" \" \" \" \" \" \" \" \" \" \" \" \" \" \" \" \" \" \" \" \" \" \" \" \" \" \" \" \" \" \" \" \" \" \" \" \" \" \" \" \" \" \" \" \" \" \" \" \" \" \" \" \" \" \" \" \" \" \" \" \" \" \" \" \" \" \" \" \" \" \" \" \" \" \" \" \" \" \" \" \" \" \" \" \" \" \" \" \" \" \" \" \" \" \" \" \" \" \" \" \" \" \" \" \" \" \" \" \" \" \" \" \" \" \" \" \" \" \" \" \" \" \" \" \" \" \" \" \" \" \" \" \" \" \" \" \" \" \" \" \" \" \" \" \" \" \" \" \" \" \" \" \" \" \" \" \" \" \" \" \" \" \" \" \" \" \" \" \" \" \" \" \" \" \" \" \" \" \" \" \n",
      "\n",
      "x:\tthe <unk> of the warren court were often defending a legal <unk> that they inherited says prof. <unk> dick howard of the university of virginia law school but the <unk> today are defending a <unk> that they created\n",
      "x_hat:\tin the lyman......................................................................................................................................................................................................,,,,,,,,,,,,,,,,,,,,,,,,,,,,,,,,,,,,,,,,,,,,,,,,,,,,,,,,,,,,,,,,,,,,,,,,,,,,,,,,,,,,,,,,,,,,,,,,,,,,,,,,,,,,,,,,,,,,,,,,, the, the the the the the the the the the the the the the the the the the the the the the the the the the the the the the the the the the the the the the the the the the the the the the the the the the the the the the the the the the the the the the the the the the the the the the the the the the the the the the the the the the the the the the the the the the the the the the the the the the the the the the the the the the the the the the the the the the the the the the the the the the the the the the the the the the the the the the the the the the the the the the the the the the the the the the the the the the the the the the the the the the the the the the the the the the the the the the the the the the the the the the the the the the the th\n",
      "\n",
      "x:\twe would obviously be upset if those kinds of services <unk> into more <unk> <unk> programming says robert <unk> senior vice president programming of continental <unk> inc. which holds a N N stake in turner broadcasting\n",
      "x_hat:\tin the, the, would be sub the national geographic association...................................................................................................................................................................,,,,,,,,,,,,,,,,,,,,,,,,,,,,,,,,,,,,,,,,,,,,,,,,,,,,,,,,,,,,,,,,,,,,,,,,,,,,,,,,,,,,,,,,,,,,,,,,,,,,,,,,,,,,,,,,,,,,,,,,,,,,,,,,,,,,,,,,,,,,,,,,,,,,,,,,,,,,,,,,,,,,,,,,,,,,,,,,,,,,,,,,,,,,,,,,,,,,,,,,,,,,,,,,,,,,,,,,,,,,,,,,,,,,,,,,,,,,,,,,,,,,,,,,,,,,,,,,,,,,,,,,,,,,,,,,,,,,,,,,,,,,,,,,,,,,,,,,,,,,,,,,,,,,,,,,,,,,,,,,,,,,, the, the the the the the the the the th\n",
      "\n",
      "x:\t$ N million of series c bonds via a prudential-bache group\n",
      "x_hat:\tin the financial corporation. \n"
     ]
    }
   ],
   "source": [
    "for i, s in enumerate(dec):\n",
    "    print(f'\\nx:\\t{sentences[i]}\\nx_hat:\\t{s[4:s.find(\"</s>\")]}')"
   ]
  },
  {
   "cell_type": "markdown",
   "id": "1c08f434-da4c-436c-a32a-b4c988c85c54",
   "metadata": {},
   "source": [
    "# Test"
   ]
  },
  {
   "cell_type": "code",
   "execution_count": 52,
   "id": "5c68f294-48f8-44c3-9b89-d3905c1a691e",
   "metadata": {},
   "outputs": [
    {
     "data": {
      "text/plain": [
       "{'input_ids': tensor([[    0,  2049,  1009,  ...,     1,     1,     1],\n",
       "        [    0,  2891, 15772,  ...,     1,     1,     1],\n",
       "        [    0,  2000,  2073,  ...,     1,     1,     1],\n",
       "        ...,\n",
       "        [    0,  6993,  5527,  ...,     1,     1,     1],\n",
       "        [    0,  4295,  4294,  ...,     1,     1,     1],\n",
       "        [    0,  2064,  2354,  ...,     1,     1,     1]]), 'attention_mask': tensor([[1, 1, 1,  ..., 0, 0, 0],\n",
       "        [1, 1, 1,  ..., 0, 0, 0],\n",
       "        [1, 1, 1,  ..., 0, 0, 0],\n",
       "        ...,\n",
       "        [1, 1, 1,  ..., 0, 0, 0],\n",
       "        [1, 1, 1,  ..., 0, 0, 0],\n",
       "        [1, 1, 1,  ..., 0, 0, 0]]), 'token_embeddings': tensor([[[ 1.7046e-02,  1.1460e-01, -2.1556e-02,  ...,  7.2599e-02,\n",
       "          -1.0680e-01, -1.3060e-01],\n",
       "         [-7.0347e-03,  4.4170e-02, -3.6990e-02,  ...,  8.6892e-02,\n",
       "          -1.1156e-01, -6.8378e-02],\n",
       "         [-2.0015e-02,  1.5945e-02, -1.3913e-02,  ...,  9.2661e-02,\n",
       "          -8.7501e-02, -9.9539e-02],\n",
       "         ...,\n",
       "         [ 3.3413e-02,  2.0131e-01, -3.6728e-03,  ...,  4.8775e-02,\n",
       "          -3.9756e-02, -7.7718e-02],\n",
       "         [ 3.3413e-02,  2.0131e-01, -3.6728e-03,  ...,  4.8775e-02,\n",
       "          -3.9756e-02, -7.7718e-02],\n",
       "         [ 3.3413e-02,  2.0131e-01, -3.6728e-03,  ...,  4.8775e-02,\n",
       "          -3.9756e-02, -7.7718e-02]],\n",
       "\n",
       "        [[ 3.7194e-02,  4.4646e-02, -1.2910e-02,  ..., -1.4364e-01,\n",
       "           1.2966e-01, -1.2323e-01],\n",
       "         [ 3.5956e-03,  1.1954e-01, -1.5514e-02,  ..., -2.7444e-01,\n",
       "           2.9060e-01, -1.0662e-01],\n",
       "         [ 9.8709e-03,  2.0096e-01, -1.7600e-02,  ..., -1.0339e-01,\n",
       "           1.5489e-01, -1.6107e-01],\n",
       "         ...,\n",
       "         [ 5.4201e-02,  2.4997e-01,  8.6200e-03,  ..., -5.4273e-02,\n",
       "           1.1330e-01, -1.1115e-01],\n",
       "         [ 5.4201e-02,  2.4997e-01,  8.6200e-03,  ..., -5.4273e-02,\n",
       "           1.1330e-01, -1.1115e-01],\n",
       "         [ 5.4201e-02,  2.4997e-01,  8.6200e-03,  ..., -5.4273e-02,\n",
       "           1.1330e-01, -1.1115e-01]],\n",
       "\n",
       "        [[ 8.9922e-03,  2.3566e-01,  3.3468e-02,  ..., -3.4613e-02,\n",
       "          -1.1574e-01, -4.2266e-02],\n",
       "         [-1.4820e-03,  1.7788e-01, -2.8405e-02,  ...,  2.6078e-02,\n",
       "          -7.5360e-02, -3.0386e-02],\n",
       "         [ 8.3738e-02,  8.9832e-02,  1.5218e-02,  ..., -2.7262e-02,\n",
       "          -1.1788e-01, -2.0604e-02],\n",
       "         ...,\n",
       "         [ 5.4290e-02,  2.6918e-01,  3.5016e-02,  ..., -2.6655e-03,\n",
       "          -5.4816e-02, -2.8397e-02],\n",
       "         [ 5.4290e-02,  2.6918e-01,  3.5016e-02,  ..., -2.6655e-03,\n",
       "          -5.4816e-02, -2.8397e-02],\n",
       "         [ 5.4290e-02,  2.6918e-01,  3.5016e-02,  ..., -2.6655e-03,\n",
       "          -5.4816e-02, -2.8397e-02]],\n",
       "\n",
       "        ...,\n",
       "\n",
       "        [[-6.1356e-03,  5.2257e-02, -5.2046e-03,  ..., -9.9228e-02,\n",
       "           9.5067e-02,  1.0925e-02],\n",
       "         [-7.5868e-02, -2.4741e-01, -3.5806e-02,  ..., -4.2645e-02,\n",
       "           9.9854e-02, -1.0864e-02],\n",
       "         [ 5.0471e-02,  1.1934e-01, -2.3161e-02,  ..., -1.4201e-01,\n",
       "          -6.2317e-02,  6.1648e-02],\n",
       "         ...,\n",
       "         [ 1.8728e-02,  2.5317e-01,  2.8628e-02,  ..., -7.7687e-02,\n",
       "           1.1193e-01, -2.7041e-02],\n",
       "         [ 1.8728e-02,  2.5317e-01,  2.8628e-02,  ..., -7.7687e-02,\n",
       "           1.1193e-01, -2.7041e-02],\n",
       "         [ 1.8728e-02,  2.5317e-01,  2.8628e-02,  ..., -7.7687e-02,\n",
       "           1.1193e-01, -2.7041e-02]],\n",
       "\n",
       "        [[-1.1410e-02,  1.7580e-02, -2.1893e-02,  ..., -1.2361e-01,\n",
       "          -2.4230e-02, -7.3328e-02],\n",
       "         [-5.7981e-02, -2.1006e-01, -3.3208e-02,  ..., -1.9121e-01,\n",
       "          -2.3215e-02, -4.5334e-02],\n",
       "         [-7.2569e-02, -7.4036e-02, -4.6384e-02,  ..., -1.5091e-01,\n",
       "          -6.5793e-03, -4.9083e-02],\n",
       "         ...,\n",
       "         [-4.2263e-02,  2.3996e-01, -9.2574e-03,  ..., -2.8321e-02,\n",
       "           8.9860e-05, -7.2013e-02],\n",
       "         [-4.2263e-02,  2.3996e-01, -9.2574e-03,  ..., -2.8321e-02,\n",
       "           8.9860e-05, -7.2013e-02],\n",
       "         [-4.2263e-02,  2.3996e-01, -9.2574e-03,  ..., -2.8321e-02,\n",
       "           8.9860e-05, -7.2013e-02]],\n",
       "\n",
       "        [[-1.3530e-01,  3.2901e-02, -5.0961e-03,  ..., -6.7807e-02,\n",
       "          -9.7909e-02, -9.8166e-02],\n",
       "         [-1.7589e-01, -5.1725e-02, -6.7896e-02,  ..., -2.2108e-03,\n",
       "          -1.0279e-01, -9.7171e-02],\n",
       "         [-1.2318e-01, -1.6946e-02, -3.7657e-02,  ..., -4.2539e-02,\n",
       "          -1.2077e-01, -8.7358e-02],\n",
       "         ...,\n",
       "         [-7.2103e-02,  1.4325e-01, -8.5572e-03,  ..., -2.1559e-02,\n",
       "          -1.0756e-01, -9.1207e-02],\n",
       "         [-7.2103e-02,  1.4325e-01, -8.5572e-03,  ..., -2.1559e-02,\n",
       "          -1.0756e-01, -9.1207e-02],\n",
       "         [-7.2103e-02,  1.4325e-01, -8.5572e-03,  ..., -2.1559e-02,\n",
       "          -1.0756e-01, -9.1207e-02]]], grad_fn=<NativeLayerNormBackward0>), 'sentence_embedding': tensor([[ 0.0302,  0.0134, -0.0203,  ...,  0.0431, -0.0276, -0.0405],\n",
       "        [ 0.0123,  0.0215, -0.0030,  ..., -0.0588,  0.0514, -0.0400],\n",
       "        [ 0.0028,  0.0868, -0.0035,  ...,  0.0055, -0.0452, -0.0011],\n",
       "        ...,\n",
       "        [-0.0164,  0.0244, -0.0086,  ..., -0.0558,  0.0458,  0.0093],\n",
       "        [-0.0393, -0.0196, -0.0098,  ..., -0.0469, -0.0243, -0.0274],\n",
       "        [-0.0684,  0.0002, -0.0153,  ..., -0.0280, -0.0593, -0.0529]],\n",
       "       grad_fn=<DivBackward0>)}"
      ]
     },
     "execution_count": 52,
     "metadata": {},
     "output_type": "execute_result"
    }
   ],
   "source": [
    "max_length = 512\n",
    "\n",
    "# load model\n",
    "stx = SentenceTransformer(cfg.model['encoder'])\n",
    "\n",
    "# tokenize sentences\n",
    "sent_tokens = tokenizer(\n",
    "    sentences,\n",
    "    max_length=max_length,\n",
    "    padding='max_length',\n",
    "    truncation=True,\n",
    "    return_tensors='pt',\n",
    ")\n",
    "\n",
    "#print(sent_tokens)\n",
    "\n",
    "stx(sent_tokens)"
   ]
  }
 ],
 "metadata": {
  "kernelspec": {
   "display_name": "Python 3 (ipykernel)",
   "language": "python",
   "name": "python3"
  },
  "language_info": {
   "codemirror_mode": {
    "name": "ipython",
    "version": 3
   },
   "file_extension": ".py",
   "mimetype": "text/x-python",
   "name": "python",
   "nbconvert_exporter": "python",
   "pygments_lexer": "ipython3",
   "version": "3.10.11"
  }
 },
 "nbformat": 4,
 "nbformat_minor": 5
}
